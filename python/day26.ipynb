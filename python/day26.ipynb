{
 "cells": [
  {
   "cell_type": "markdown",
   "metadata": {},
   "source": [
    "### Problem Statement:\n",
    "You are given a list of n cities, represented as points in a 2D plane. The cost of traveling between two cities is the Euclidean distance between them. Your task is to find the minimum cost of visiting all cities exactly once and returning to the starting city.\n",
    "\n",
    "#### Input:\n",
    "\n",
    "- A list of n cities, each represented as a tuple (x, y) of coordinates.\n",
    "#### Output:\n",
    "\n",
    "- The minimum possible travel cost."
   ]
  },
  {
   "cell_type": "code",
   "execution_count": 1,
   "metadata": {},
   "outputs": [],
   "source": [
    "from itertools import permutations\n",
    "from functools import lru_cache\n",
    "import math"
   ]
  },
  {
   "cell_type": "code",
   "execution_count": 2,
   "metadata": {},
   "outputs": [],
   "source": [
    "def distance(city1, city2):\n",
    "    \"\"\"Calculate Euclidean distance between two cities.\"\"\"\n",
    "    return math.sqrt((city1[0] - city2[0]) ** 2 + (city1[1] - city2[1]) ** 2)"
   ]
  },
  {
   "cell_type": "code",
   "execution_count": 3,
   "metadata": {},
   "outputs": [],
   "source": [
    "def tsp_dp(cities):\n",
    "    \"\"\"Solves TSP using Dynamic Programming (Held-Karp Algorithm).\"\"\"\n",
    "    n = len(cities)\n",
    "    dist = [[distance(cities[i], cities[j]) for j in range(n)] for i in range(n)]\n",
    "\n",
    "    @lru_cache(None)\n",
    "    def dp(mask, last):\n",
    "        \"\"\"Recursive function with memoization.\"\"\"\n",
    "        if mask == (1 << n) - 1:\n",
    "            return dist[last][0]  # Return cost to go back to start city\n",
    "        best = float('inf')\n",
    "        for next_city in range(n):\n",
    "            if mask & (1 << next_city) == 0:  # If city is not visited\n",
    "                best = min(best, dist[last][next_city] + dp(mask | (1 << next_city), next_city))\n",
    "        return best\n",
    "\n",
    "    return dp(1, 0)  # Start from city 0 with only it visited"
   ]
  },
  {
   "cell_type": "code",
   "execution_count": 4,
   "metadata": {},
   "outputs": [
    {
     "name": "stdout",
     "output_type": "stream",
     "text": [
      "Minimum TSP Cost: 16.012869126098966\n"
     ]
    }
   ],
   "source": [
    "# Example usage\n",
    "cities = [(0, 0), (2, 3), (5, 4), (6, 1)]\n",
    "print(\"Minimum TSP Cost:\", tsp_dp(cities))"
   ]
  },
  {
   "cell_type": "code",
   "execution_count": null,
   "metadata": {},
   "outputs": [],
   "source": []
  },
  {
   "cell_type": "code",
   "execution_count": null,
   "metadata": {},
   "outputs": [],
   "source": []
  }
 ],
 "metadata": {
  "kernelspec": {
   "display_name": "Python 3",
   "language": "python",
   "name": "python3"
  },
  "language_info": {
   "codemirror_mode": {
    "name": "ipython",
    "version": 3
   },
   "file_extension": ".py",
   "mimetype": "text/x-python",
   "name": "python",
   "nbconvert_exporter": "python",
   "pygments_lexer": "ipython3",
   "version": "3.12.1"
  }
 },
 "nbformat": 4,
 "nbformat_minor": 2
}
