{
 "cells": [
  {
   "cell_type": "code",
   "execution_count": 1,
   "metadata": {},
   "outputs": [],
   "source": [
    "def cross_validation(X, y, k=5):\n",
    "    fold_size = len(X) // k\n",
    "    scores = []\n",
    "    \n",
    "    for i in range(k):\n",
    "        test_start = i * fold_size\n",
    "        test_end = test_start + fold_size\n",
    "        \n",
    "        test_indices = slice(test_start, test_end)\n",
    "        train_indices = list(range(0, test_start)) + list(range(test_end, len(X)))\n",
    "        \n",
    "        X_train = X[train_indices]\n",
    "        X_test = X[test_indices]\n",
    "        y_train = y[train_indices]\n",
    "        y_test = y[test_indices]\n",
    "        \n",
    "        # Train and evaluate model\n",
    "        model = train_model(X_train, y_train)\n",
    "        score = evaluate_model(model, X_test, y_test)\n",
    "        scores.append(score)\n",
    "    \n",
    "    return np.mean(scores), np.std(scores)"
   ]
  },
  {
   "cell_type": "code",
   "execution_count": null,
   "metadata": {},
   "outputs": [],
   "source": []
  }
 ],
 "metadata": {
  "kernelspec": {
   "display_name": "Python 3",
   "language": "python",
   "name": "python3"
  },
  "language_info": {
   "codemirror_mode": {
    "name": "ipython",
    "version": 3
   },
   "file_extension": ".py",
   "mimetype": "text/x-python",
   "name": "python",
   "nbconvert_exporter": "python",
   "pygments_lexer": "ipython3",
   "version": "3.12.1"
  }
 },
 "nbformat": 4,
 "nbformat_minor": 2
}
