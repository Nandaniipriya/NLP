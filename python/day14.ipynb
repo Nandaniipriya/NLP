{
 "cells": [
  {
   "cell_type": "markdown",
   "metadata": {},
   "source": [
    "## Question: \n",
    "Write a Python function to calculate the correlation matrix of a dataset. The function should take a pandas DataFrame as input and return the correlation matrix. Demonstrate the function using a dummy dataset."
   ]
  },
  {
   "cell_type": "code",
   "execution_count": 1,
   "metadata": {},
   "outputs": [],
   "source": [
    "import pandas as pd\n",
    "import numpy as np"
   ]
  },
  {
   "cell_type": "code",
   "execution_count": 2,
   "metadata": {},
   "outputs": [],
   "source": [
    "def calculate_correlation_matrix(df):\n",
    "    \"\"\"\n",
    "    Calculate and return the correlation matrix of a DataFrame.\n",
    "\n",
    "    Parameters:\n",
    "        df (pd.DataFrame): The input DataFrame.\n",
    "\n",
    "    Returns:\n",
    "        pd.DataFrame: Correlation matrix of the input DataFrame.\n",
    "    \"\"\"\n",
    "    # Ensure only numerical columns are included\n",
    "    numerical_df = df.select_dtypes(include=[np.number])\n",
    "    \n",
    "    # Calculate the correlation matrix\n",
    "    correlation_matrix = numerical_df.corr()\n",
    "    \n",
    "    return correlation_matrix"
   ]
  },
  {
   "cell_type": "code",
   "execution_count": 3,
   "metadata": {},
   "outputs": [],
   "source": [
    "data = {\n",
    "    'Age': [25, 30, 35, 40, 45],\n",
    "    'Salary': [40000, 50000, 60000, 80000, 100000],\n",
    "    'Experience': [1, 3, 5, 7, 10],\n",
    "    'Happiness_Score': [3.5, 4.0, 4.5, 4.7, 5.0]\n",
    "}"
   ]
  },
  {
   "cell_type": "code",
   "execution_count": 4,
   "metadata": {},
   "outputs": [],
   "source": [
    "# Create a pandas DataFrame\n",
    "df = pd.DataFrame(data)"
   ]
  },
  {
   "cell_type": "code",
   "execution_count": 5,
   "metadata": {},
   "outputs": [],
   "source": [
    "# Calculate the correlation matrix\n",
    "correlation_matrix = calculate_correlation_matrix(df)"
   ]
  },
  {
   "cell_type": "code",
   "execution_count": 6,
   "metadata": {},
   "outputs": [
    {
     "name": "stdout",
     "output_type": "stream",
     "text": [
      "Correlation Matrix:\n",
      "                      Age    Salary  Experience  Happiness_Score\n",
      "Age              1.000000  0.984798    0.995893         0.984656\n",
      "Salary           0.984798  1.000000    0.992642         0.939985\n",
      "Experience       0.995893  0.992642    1.000000         0.970974\n",
      "Happiness_Score  0.984656  0.939985    0.970974         1.000000\n"
     ]
    }
   ],
   "source": [
    "print(\"Correlation Matrix:\")\n",
    "print(correlation_matrix)"
   ]
  },
  {
   "cell_type": "code",
   "execution_count": null,
   "metadata": {},
   "outputs": [],
   "source": []
  }
 ],
 "metadata": {
  "kernelspec": {
   "display_name": "Python 3",
   "language": "python",
   "name": "python3"
  },
  "language_info": {
   "codemirror_mode": {
    "name": "ipython",
    "version": 3
   },
   "file_extension": ".py",
   "mimetype": "text/x-python",
   "name": "python",
   "nbconvert_exporter": "python",
   "pygments_lexer": "ipython3",
   "version": "3.12.1"
  }
 },
 "nbformat": 4,
 "nbformat_minor": 2
}
