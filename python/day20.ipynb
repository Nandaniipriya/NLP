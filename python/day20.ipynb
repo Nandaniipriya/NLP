{
 "cells": [
  {
   "cell_type": "code",
   "execution_count": null,
   "metadata": {},
   "outputs": [],
   "source": [
    "import nltk\n",
    "from nltk.corpus import stopwords\n",
    "from sklearn.feature_extraction.text import CountVectorizer\n",
    "from sklearn.naive_bayes import MultinomialNB\n",
    "\n",
    "# Download required NLTK resources\n",
    "nltk.download('stopwords')\n",
    "nltk.download('punkt')\n",
    "\n",
    "# Sample data\n",
    "text_data = [\n",
    "    \"I really enjoyed the movie. The plot was captivating and the acting was great.\",\n",
    "    \"This product is terrible. It doesn't work as advertised and the customer service is awful.\",\n",
    "    \"The book was interesting, but it was a bit too long and dragged on in parts.\",\n",
    "    \"What an amazing restaurant! The food was delicious and the service was wonderful.\"\n",
    "]\n",
    "\n",
    "labels = ['positive', 'negative', 'neutral', 'positive']\n",
    "\n",
    "# Preprocess the text\n",
    "vectorizer = CountVectorizer(stop_words=stopwords.words('english'))\n",
    "X = vectorizer.fit_transform(text_data)\n",
    "\n",
    "# Train the classifier\n",
    "clf = MultinomialNB()\n",
    "clf.fit(X, labels)\n",
    "\n",
    "# Make a prediction\n",
    "new_text = \"The pizza was mediocre, and the delivery was late.\"\n",
    "new_text_vector = vectorizer.transform([new_text])\n",
    "prediction = clf.predict(new_text_vector)\n",
    "print(f\"Predicted label: {prediction[0]}\")"
   ]
  }
 ],
 "metadata": {
  "language_info": {
   "name": "python"
  }
 },
 "nbformat": 4,
 "nbformat_minor": 2
}
