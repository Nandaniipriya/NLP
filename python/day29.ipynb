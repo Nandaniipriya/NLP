{
 "cells": [
  {
   "cell_type": "markdown",
   "metadata": {},
   "source": [
    "# Question:\n",
    "You have a large dataset of customer transactions, and you are asked to implement a system that can efficiently group transactions by customer and calculate the average amount spent by each customer. The dataset is too large to fit into memory, and you must use efficient memory management techniques to process the data in chunks.\n",
    "\n",
    "## Requirements:\n",
    "\n",
    "1. The dataset is stored as a CSV file where each row represents a transaction with columns: customer_id, transaction_amount.\n",
    "\n",
    "2. You should implement a solution using pandas or dask (for handling large datasets).\n",
    "\n",
    "Your solution should be memory-efficient and handle large datasets efficiently"
   ]
  },
  {
   "cell_type": "code",
   "execution_count": null,
   "metadata": {},
   "outputs": [],
   "source": []
  },
  {
   "cell_type": "code",
   "execution_count": null,
   "metadata": {},
   "outputs": [],
   "source": []
  },
  {
   "cell_type": "code",
   "execution_count": null,
   "metadata": {},
   "outputs": [],
   "source": []
  },
  {
   "cell_type": "code",
   "execution_count": null,
   "metadata": {},
   "outputs": [],
   "source": []
  }
 ],
 "metadata": {
  "language_info": {
   "name": "python"
  }
 },
 "nbformat": 4,
 "nbformat_minor": 2
}
